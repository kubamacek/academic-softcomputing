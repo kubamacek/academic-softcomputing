{
 "cells": [
  {
   "cell_type": "code",
   "execution_count": 1,
   "metadata": {},
   "outputs": [],
   "source": [
    "# prerequisite: https://www.kaggle.com/meowmeowmeowmeowmeow/gtsrb-german-traffic-sign dataset unpacked into 'data' dir"
   ]
  },
  {
   "cell_type": "code",
   "execution_count": 2,
   "metadata": {},
   "outputs": [],
   "source": [
    "import os"
   ]
  },
  {
   "cell_type": "code",
   "execution_count": 3,
   "metadata": {},
   "outputs": [],
   "source": [
    "def get_number_of_classes(train_data_directory):\n",
    "    \"\"\"\n",
    "    Each type of traffic sign has its own directory in train data path.\n",
    "    Function returns number of these directories.\n",
    "    \"\"\"\n",
    "    return len(os.listdir(os.path.join(train_data_directory, 'Train')))"
   ]
  },
  {
   "cell_type": "code",
   "execution_count": 4,
   "metadata": {},
   "outputs": [],
   "source": [
    "import numpy as np\n",
    "from PIL import Image"
   ]
  },
  {
   "cell_type": "code",
   "execution_count": 5,
   "metadata": {},
   "outputs": [],
   "source": [
    "def prepare_train_data(train_data_directory):\n",
    "    \"\"\"\n",
    "    Function parses images from train data directory and returns two numpy arrays with all images and their labels.\n",
    "    \"\"\"\n",
    "    train_data = list()\n",
    "    labels = list()\n",
    "    for traffic_sign_class in range(get_number_of_classes(train_data_directory)):\n",
    "        traffic_sign_path = os.path.join(train_data_directory, 'Train', str(traffic_sign_class))\n",
    "        traffic_sign_images = os.listdir(traffic_sign_path)\n",
    "        for image_path in traffic_sign_images:\n",
    "            image = Image.open(os.path.join(traffic_sign_path, image_path))\n",
    "            image = image.convert('L') # remove color information from imageb\n",
    "            image = image.resize((30, 30))\n",
    "            image = np.array(image)\n",
    "            train_data.append(image)\n",
    "            labels.append(traffic_sign_class)\n",
    "    data = np.array(train_data)\n",
    "    labels = np.array(labels)\n",
    "    return data, labels"
   ]
  },
  {
   "cell_type": "code",
   "execution_count": 6,
   "metadata": {},
   "outputs": [],
   "source": [
    "data, labels = prepare_train_data('data')"
   ]
  },
  {
   "cell_type": "code",
   "execution_count": 7,
   "metadata": {},
   "outputs": [
    {
     "data": {
      "text/plain": [
       "(39209, 30, 30)"
      ]
     },
     "execution_count": 7,
     "metadata": {},
     "output_type": "execute_result"
    }
   ],
   "source": [
    "data.shape"
   ]
  },
  {
   "cell_type": "code",
   "execution_count": 8,
   "metadata": {},
   "outputs": [
    {
     "data": {
      "text/plain": [
       "(39209,)"
      ]
     },
     "execution_count": 8,
     "metadata": {},
     "output_type": "execute_result"
    }
   ],
   "source": [
    "labels.shape"
   ]
  },
  {
   "cell_type": "code",
   "execution_count": 9,
   "metadata": {},
   "outputs": [],
   "source": [
    "from sklearn.model_selection import train_test_split"
   ]
  },
  {
   "cell_type": "code",
   "execution_count": 10,
   "metadata": {},
   "outputs": [],
   "source": [
    "X_train, X_test, y_train, y_test = train_test_split(data, labels, test_size=0.3, random_state=7)"
   ]
  },
  {
   "cell_type": "code",
   "execution_count": 11,
   "metadata": {},
   "outputs": [],
   "source": [
    "from keras.utils import to_categorical"
   ]
  },
  {
   "cell_type": "code",
   "execution_count": 12,
   "metadata": {},
   "outputs": [],
   "source": [
    "y_train = to_categorical(y_train, get_number_of_classes('data'))\n",
    "y_test = to_categorical(y_test, get_number_of_classes('data'))"
   ]
  },
  {
   "cell_type": "code",
   "execution_count": 13,
   "metadata": {},
   "outputs": [],
   "source": [
    "from keras.models import Sequential\n",
    "from keras.layers import Dense, Flatten"
   ]
  },
  {
   "cell_type": "code",
   "execution_count": 14,
   "metadata": {},
   "outputs": [],
   "source": [
    "model = Sequential()\n",
    "model.add(Dense(15, activation='relu'))\n",
    "model.add(Flatten())\n",
    "model.add(Dense(get_number_of_classes('data'), activation='softmax'))"
   ]
  },
  {
   "cell_type": "code",
   "execution_count": 15,
   "metadata": {},
   "outputs": [],
   "source": [
    "model.compile(loss='categorical_crossentropy', optimizer='adam', metrics=['accuracy'])"
   ]
  },
  {
   "cell_type": "code",
   "execution_count": 16,
   "metadata": {},
   "outputs": [
    {
     "name": "stdout",
     "output_type": "stream",
     "text": [
      "Epoch 1/10\n",
      "275/275 [==============================] - 2s 6ms/step - loss: 30.7845 - accuracy: 0.1430 - val_loss: 6.4467 - val_accuracy: 0.2394\n",
      "Epoch 2/10\n",
      "275/275 [==============================] - 1s 5ms/step - loss: 4.1109 - accuracy: 0.2408 - val_loss: 3.3389 - val_accuracy: 0.2809\n",
      "Epoch 3/10\n",
      "275/275 [==============================] - 1s 5ms/step - loss: 2.8618 - accuracy: 0.3563 - val_loss: 2.5792 - val_accuracy: 0.4350\n",
      "Epoch 4/10\n",
      "275/275 [==============================] - 1s 5ms/step - loss: 2.1964 - accuracy: 0.4889 - val_loss: 2.0464 - val_accuracy: 0.5484\n",
      "Epoch 5/10\n",
      "275/275 [==============================] - 1s 5ms/step - loss: 1.7585 - accuracy: 0.5941 - val_loss: 1.6626 - val_accuracy: 0.6378\n",
      "Epoch 6/10\n",
      "275/275 [==============================] - 1s 5ms/step - loss: 1.4505 - accuracy: 0.6647 - val_loss: 1.4386 - val_accuracy: 0.6797\n",
      "Epoch 7/10\n",
      "275/275 [==============================] - 2s 6ms/step - loss: 1.2618 - accuracy: 0.7030 - val_loss: 1.3141 - val_accuracy: 0.7108\n",
      "Epoch 8/10\n",
      "275/275 [==============================] - 1s 5ms/step - loss: 1.1401 - accuracy: 0.7335 - val_loss: 1.2453 - val_accuracy: 0.7233\n",
      "Epoch 9/10\n",
      "275/275 [==============================] - 1s 5ms/step - loss: 1.0496 - accuracy: 0.7540 - val_loss: 1.1391 - val_accuracy: 0.7482\n",
      "Epoch 10/10\n",
      "275/275 [==============================] - 1s 5ms/step - loss: 0.9738 - accuracy: 0.7705 - val_loss: 1.1425 - val_accuracy: 0.7491\n"
     ]
    }
   ],
   "source": [
    "history = model.fit(X_train, y_train, batch_size=100, epochs=10, validation_data=(X_test, y_test))"
   ]
  }
 ],
 "metadata": {
  "kernelspec": {
   "display_name": "Python 3",
   "language": "python",
   "name": "python3"
  },
  "language_info": {
   "codemirror_mode": {
    "name": "ipython",
    "version": 3
   },
   "file_extension": ".py",
   "mimetype": "text/x-python",
   "name": "python",
   "nbconvert_exporter": "python",
   "pygments_lexer": "ipython3",
   "version": "3.6.7"
  }
 },
 "nbformat": 4,
 "nbformat_minor": 4
}
